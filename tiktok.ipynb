{
 "cells": [
  {
   "cell_type": "markdown",
   "metadata": {},
   "source": [
    "<h1>TikTok Algorithm with Machine Learning</h1>\n",
    "\n",
    "The TikTok algorithm splits into two types of recommendation algorithms which can ultimately be formed into a single ensemble-type algorithm, namely collaborative filtering and content-based filtering.\n",
    "\n"
   ]
  },
  {
   "cell_type": "markdown",
   "metadata": {},
   "source": [
    "<h2>Collaborative Filtering</h2>"
   ]
  },
  {
   "cell_type": "code",
   "execution_count": 1,
   "metadata": {},
   "outputs": [
    {
     "name": "stderr",
     "output_type": "stream",
     "text": [
      "WARNING: Using incubator modules: jdk.incubator.vector\n",
      "Using Spark's default log4j profile: org/apache/spark/log4j2-defaults.properties\n",
      "Setting default log level to \"WARN\".\n",
      "To adjust logging level use sc.setLogLevel(newLevel). For SparkR, use setLogLevel(newLevel).\n",
      "25/07/10 17:19:08 WARN NativeCodeLoader: Unable to load native-hadoop library for your platform... using builtin-java classes where applicable\n",
      "25/07/10 17:19:12 WARN InstanceBuilder: Failed to load implementation from:dev.ludovic.netlib.blas.JNIBLAS\n",
      "25/07/10 17:19:12 WARN InstanceBuilder: Failed to load implementation from:dev.ludovic.netlib.lapack.JNILAPACK\n"
     ]
    },
    {
     "name": "stdout",
     "output_type": "stream",
     "text": [
      "Root-mean-square error = 2.996586135029316\n",
      "+------+--------------------+\n",
      "|userId|     recommendations|\n",
      "+------+--------------------+\n",
      "|    10|[{106, 4.981884},...|\n",
      "|     1|[{102, 4.9233437}...|\n",
      "|     2|[{104, 4.4804144}...|\n",
      "|     4|[{104, 1.994873},...|\n",
      "|     5|[{101, 4.9790974}...|\n",
      "|     6|[{104, 3.989746},...|\n",
      "|     7|[{102, 5.024801},...|\n",
      "|     8|[{106, 4.4915133}...|\n",
      "|     9|[{101, 4.033677},...|\n",
      "+------+--------------------+\n",
      "\n"
     ]
    }
   ],
   "source": [
    "from pyspark.sql import SparkSession\n",
    "from pyspark.sql import Row\n",
    "from pyspark.ml.recommendation import ALS\n",
    "from pyspark.ml.evaluation import RegressionEvaluator\n",
    "\n",
    "# Initialize Spark session\n",
    "spark = SparkSession.builder \\\n",
    "    .appName(\"ALSRecommendation\") \\\n",
    "    .getOrCreate()\n",
    "\n",
    "# Read the text file into an RDD\n",
    "lines = spark.read.text(\"data.txt\").rdd\n",
    "\n",
    "# Assume data format: userId::itemId::rating\n",
    "parts = lines.map(lambda row: row.value.split(\"::\"))\n",
    "liked_data = parts.map(lambda p: Row(userId=int(p[0]), itemId=int(p[1]), like=float(p[2])))\n",
    "\n",
    "# Create DataFrame\n",
    "liked_df = spark.createDataFrame(liked_data)\n",
    "\n",
    "# Split into training and test sets\n",
    "(training, test) = liked_df.randomSplit([0.75, 0.25])\n",
    "\n",
    "# Build the ALS model\n",
    "als = ALS(\n",
    "    maxIter=4,\n",
    "    regParam=0.05,\n",
    "    userCol=\"userId\",\n",
    "    itemCol=\"itemId\",\n",
    "    ratingCol=\"like\",\n",
    "    coldStartStrategy=\"drop\"\n",
    ")\n",
    "\n",
    "# Train the model\n",
    "model = als.fit(training)\n",
    "\n",
    "# Make predictions\n",
    "predictions = model.transform(test)\n",
    "\n",
    "# Evaluate the model\n",
    "evaluator = RegressionEvaluator(\n",
    "    metricName=\"rmse\",\n",
    "    labelCol=\"like\",\n",
    "    predictionCol=\"prediction\"\n",
    ")\n",
    "\n",
    "rmse = evaluator.evaluate(predictions)\n",
    "print(\"Root-mean-square error = \" + str(rmse))\n",
    "\n",
    "# Recommend top 20 items for each user\n",
    "user_recommendations = model.recommendForAllUsers(20)\n",
    "user_recommendations.show()\n"
   ]
  },
  {
   "cell_type": "markdown",
   "metadata": {},
   "source": [
    "<h2>Content-Based Filtering</h2>"
   ]
  },
  {
   "cell_type": "code",
   "execution_count": 6,
   "metadata": {},
   "outputs": [
    {
     "data": {
      "text/plain": [
       "array([[1.        , 0.99040455, 0.99901581, 0.99865319],\n",
       "       [0.99040455, 1.        , 0.99555612, 0.98196475],\n",
       "       [0.99901581, 0.99555612, 1.        , 0.99538834],\n",
       "       [0.99865319, 0.98196475, 0.99538834, 1.        ]])"
      ]
     },
     "execution_count": 6,
     "metadata": {},
     "output_type": "execute_result"
    }
   ],
   "source": [
    "from sklearn.metrics.pairwise import cosine_similarity\n",
    "import pandas as pd\n",
    "\n",
    "data = pd.read_csv(\"data.csv\")\n",
    "\n",
    "alg = cosine_similarity(data)\n",
    "alg"
   ]
  }
 ],
 "metadata": {
  "kernelspec": {
   "display_name": "Python 3",
   "language": "python",
   "name": "python3"
  },
  "language_info": {
   "codemirror_mode": {
    "name": "ipython",
    "version": 3
   },
   "file_extension": ".py",
   "mimetype": "text/x-python",
   "name": "python",
   "nbconvert_exporter": "python",
   "pygments_lexer": "ipython3",
   "version": "3.13.5"
  }
 },
 "nbformat": 4,
 "nbformat_minor": 2
}
